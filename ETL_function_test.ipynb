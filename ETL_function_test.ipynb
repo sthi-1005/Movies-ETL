{
 "cells": [
  {
   "cell_type": "code",
   "execution_count": 9,
   "metadata": {},
   "outputs": [],
   "source": [
    "import json\n",
    "import pandas as pd\n",
    "import numpy as np\n",
    "\n",
    "import re\n",
    "\n",
    "from sqlalchemy import create_engine\n",
    "import psycopg2\n",
    "\n",
    "# from config import db_password\n",
    "\n",
    "import time\n",
    "\n",
    "# 1. Create a function that takes in three arguments;\n",
    "# Wikipedia data, Kaggle metadata, and MovieLens rating data (from Kaggle)\n",
    "\n",
    "def extract_transform_load(wiki_data,kaggle_data,movielens_data):\n",
    "    # 2. Read in the kaggle metadata and MovieLens ratings CSV files as Pandas DataFrames.\n",
    "    kaggle_metadata = pd.DataFrame(pd.read_csv(kaggle_file))\n",
    "    ratings=pd.DataFrame(pd.read_csv(ratings_file))\n",
    "\n",
    "\n",
    "    # 3. Open the read the Wikipedia data JSON file.\n",
    "    with open(wiki_file, mode='r') as file:\n",
    "        wiki_movies_raw = json.load(file)\n",
    "    # 4. Read in the raw wiki movie data as a Pandas DataFrame.\n",
    "    wiki_movies_df = pd.DataFrame(wiki_movies_raw)\n",
    "\n",
    "    # 5. Return the three DataFrames\n",
    "    return wiki_movies_df, kaggle_metadata, ratings\n",
    "\n",
    "# 6 Create the path to your file directory and variables for the three files. \n",
    "file_dir = r'C:\\Users\\Steven\\OneDrive - University of Toronto\\Course Material\\Week 8\\Movies-ETL'\n",
    "# Wikipedia data\n",
    "wiki_file = f'{file_dir}\\wikipedia-movies.json'\n",
    "# Kaggle metadata\n",
    "kaggle_file = f'{file_dir}\\Data\\movies_metadata.csv'\n",
    "# MovieLens rating data.\n",
    "ratings_file = f'{file_dir}\\Data\\\\ratings.csv'\n",
    "\n",
    "# 7. Set the three variables in Step 6 equal to the function created in Step 1.\n",
    "wiki_file, kaggle_file, ratings_file = extract_transform_load(wiki_file,kaggle_file,ratings_file)"
   ]
  },
  {
   "cell_type": "code",
   "execution_count": 10,
   "metadata": {},
   "outputs": [],
   "source": [
    "# 8. Set the DataFrames from the return statement equal to the file names in Step 6. \n",
    "wiki_movies_df = wiki_file\n",
    "kaggle_metadata = kaggle_file\n",
    "ratings = ratings_file"
   ]
  },
  {
   "cell_type": "code",
   "execution_count": 11,
   "metadata": {},
   "outputs": [
    {
     "output_type": "execute_result",
     "data": {
      "text/plain": [
       "                                                 url  ...  Polish\n",
       "0  https://en.wikipedia.org/wiki/The_Adventures_o...  ...     NaN\n",
       "1  https://en.wikipedia.org/wiki/After_Dark,_My_S...  ...     NaN\n",
       "2   https://en.wikipedia.org/wiki/Air_America_(film)  ...     NaN\n",
       "3    https://en.wikipedia.org/wiki/Alice_(1990_film)  ...     NaN\n",
       "4      https://en.wikipedia.org/wiki/Almost_an_Angel  ...     NaN\n",
       "\n",
       "[5 rows x 193 columns]"
      ],
      "text/html": "<div>\n<style scoped>\n    .dataframe tbody tr th:only-of-type {\n        vertical-align: middle;\n    }\n\n    .dataframe tbody tr th {\n        vertical-align: top;\n    }\n\n    .dataframe thead th {\n        text-align: right;\n    }\n</style>\n<table border=\"1\" class=\"dataframe\">\n  <thead>\n    <tr style=\"text-align: right;\">\n      <th></th>\n      <th>url</th>\n      <th>year</th>\n      <th>imdb_link</th>\n      <th>title</th>\n      <th>Directed by</th>\n      <th>Produced by</th>\n      <th>Screenplay by</th>\n      <th>Story by</th>\n      <th>Based on</th>\n      <th>Starring</th>\n      <th>Narrated by</th>\n      <th>Music by</th>\n      <th>Cinematography</th>\n      <th>Edited by</th>\n      <th>Productioncompany</th>\n      <th>Distributed by</th>\n      <th>Release date</th>\n      <th>Running time</th>\n      <th>Country</th>\n      <th>Language</th>\n      <th>Budget</th>\n      <th>Box office</th>\n      <th>Written by</th>\n      <th>Genre</th>\n      <th>Theme music composer</th>\n      <th>Country of origin</th>\n      <th>Original language(s)</th>\n      <th>Producer(s)</th>\n      <th>Editor(s)</th>\n      <th>Production company(s)</th>\n      <th>Original network</th>\n      <th>Original release</th>\n      <th>Productioncompanies</th>\n      <th>Executive producer(s)</th>\n      <th>Production location(s)</th>\n      <th>Distributor</th>\n      <th>Picture format</th>\n      <th>Audio format</th>\n      <th>Voices of</th>\n      <th>Followed by</th>\n      <th>...</th>\n      <th>Designer(s)</th>\n      <th>Programmer(s)</th>\n      <th>Artist(s)</th>\n      <th>Writer(s)</th>\n      <th>Engine</th>\n      <th>Platform(s)</th>\n      <th>Release</th>\n      <th>Mode(s)</th>\n      <th>Original work</th>\n      <th>Television series</th>\n      <th>Japanese</th>\n      <th>Hepburn</th>\n      <th>Literally</th>\n      <th>Cantonese</th>\n      <th>Full name</th>\n      <th>Height</th>\n      <th>Seasons</th>\n      <th>Chinese</th>\n      <th>Other names</th>\n      <th>Relatives</th>\n      <th>Yiddish</th>\n      <th>Formerly</th>\n      <th>Key people</th>\n      <th>Total assets</th>\n      <th>Owner</th>\n      <th>Number of employees</th>\n      <th>Divisions</th>\n      <th>Subsidiaries</th>\n      <th>Arabic</th>\n      <th>Romanized</th>\n      <th>Predecessor</th>\n      <th>Founders</th>\n      <th>Area served</th>\n      <th>Products</th>\n      <th>Services</th>\n      <th>Russian</th>\n      <th>Hebrew</th>\n      <th>Revenue</th>\n      <th>Operating income</th>\n      <th>Polish</th>\n    </tr>\n  </thead>\n  <tbody>\n    <tr>\n      <th>0</th>\n      <td>https://en.wikipedia.org/wiki/The_Adventures_o...</td>\n      <td>1990.0</td>\n      <td>https://www.imdb.com/title/tt0098987/</td>\n      <td>The Adventures of Ford Fairlane</td>\n      <td>Renny Harlin</td>\n      <td>[Steve Perry, Joel Silver]</td>\n      <td>[David Arnott, James Cappe, Daniel Waters]</td>\n      <td>[David Arnott, James Cappe]</td>\n      <td>[Characters, by Rex Weiner]</td>\n      <td>[Andrew Dice Clay, Wayne Newton, Priscilla Pre...</td>\n      <td>Andrew \"Dice\" Clay</td>\n      <td>[Cliff Eidelman, Yello]</td>\n      <td>Oliver Wood</td>\n      <td>Michael Tronick</td>\n      <td>Silver Pictures</td>\n      <td>20th Century Fox</td>\n      <td>[July 11, 1990, (, 1990-07-11, )]</td>\n      <td>102 minutes</td>\n      <td>United States</td>\n      <td>English</td>\n      <td>$20 million</td>\n      <td>$21.4 million</td>\n      <td>NaN</td>\n      <td>NaN</td>\n      <td>NaN</td>\n      <td>NaN</td>\n      <td>NaN</td>\n      <td>NaN</td>\n      <td>NaN</td>\n      <td>NaN</td>\n      <td>NaN</td>\n      <td>NaN</td>\n      <td>NaN</td>\n      <td>NaN</td>\n      <td>NaN</td>\n      <td>NaN</td>\n      <td>NaN</td>\n      <td>NaN</td>\n      <td>NaN</td>\n      <td>NaN</td>\n      <td>...</td>\n      <td>NaN</td>\n      <td>NaN</td>\n      <td>NaN</td>\n      <td>NaN</td>\n      <td>NaN</td>\n      <td>NaN</td>\n      <td>NaN</td>\n      <td>NaN</td>\n      <td>NaN</td>\n      <td>NaN</td>\n      <td>NaN</td>\n      <td>NaN</td>\n      <td>NaN</td>\n      <td>NaN</td>\n      <td>NaN</td>\n      <td>NaN</td>\n      <td>NaN</td>\n      <td>NaN</td>\n      <td>NaN</td>\n      <td>NaN</td>\n      <td>NaN</td>\n      <td>NaN</td>\n      <td>NaN</td>\n      <td>NaN</td>\n      <td>NaN</td>\n      <td>NaN</td>\n      <td>NaN</td>\n      <td>NaN</td>\n      <td>NaN</td>\n      <td>NaN</td>\n      <td>NaN</td>\n      <td>NaN</td>\n      <td>NaN</td>\n      <td>NaN</td>\n      <td>NaN</td>\n      <td>NaN</td>\n      <td>NaN</td>\n      <td>NaN</td>\n      <td>NaN</td>\n      <td>NaN</td>\n    </tr>\n    <tr>\n      <th>1</th>\n      <td>https://en.wikipedia.org/wiki/After_Dark,_My_S...</td>\n      <td>1990.0</td>\n      <td>https://www.imdb.com/title/tt0098994/</td>\n      <td>After Dark, My Sweet</td>\n      <td>James Foley</td>\n      <td>[Ric Kidney, Robert Redlin]</td>\n      <td>[James Foley, Robert Redlin]</td>\n      <td>NaN</td>\n      <td>[the novel, After Dark, My Sweet, by, Jim Thom...</td>\n      <td>[Jason Patric, Rachel Ward, Bruce Dern, George...</td>\n      <td>NaN</td>\n      <td>Maurice Jarre</td>\n      <td>Mark Plummer</td>\n      <td>Howard E. Smith</td>\n      <td>Avenue Pictures</td>\n      <td>Avenue Pictures</td>\n      <td>[May 17, 1990, (, 1990-05-17, ), (Cannes Film ...</td>\n      <td>114 minutes</td>\n      <td>United States</td>\n      <td>English</td>\n      <td>$6 million</td>\n      <td>$2.7 million</td>\n      <td>NaN</td>\n      <td>NaN</td>\n      <td>NaN</td>\n      <td>NaN</td>\n      <td>NaN</td>\n      <td>NaN</td>\n      <td>NaN</td>\n      <td>NaN</td>\n      <td>NaN</td>\n      <td>NaN</td>\n      <td>NaN</td>\n      <td>NaN</td>\n      <td>NaN</td>\n      <td>NaN</td>\n      <td>NaN</td>\n      <td>NaN</td>\n      <td>NaN</td>\n      <td>NaN</td>\n      <td>...</td>\n      <td>NaN</td>\n      <td>NaN</td>\n      <td>NaN</td>\n      <td>NaN</td>\n      <td>NaN</td>\n      <td>NaN</td>\n      <td>NaN</td>\n      <td>NaN</td>\n      <td>NaN</td>\n      <td>NaN</td>\n      <td>NaN</td>\n      <td>NaN</td>\n      <td>NaN</td>\n      <td>NaN</td>\n      <td>NaN</td>\n      <td>NaN</td>\n      <td>NaN</td>\n      <td>NaN</td>\n      <td>NaN</td>\n      <td>NaN</td>\n      <td>NaN</td>\n      <td>NaN</td>\n      <td>NaN</td>\n      <td>NaN</td>\n      <td>NaN</td>\n      <td>NaN</td>\n      <td>NaN</td>\n      <td>NaN</td>\n      <td>NaN</td>\n      <td>NaN</td>\n      <td>NaN</td>\n      <td>NaN</td>\n      <td>NaN</td>\n      <td>NaN</td>\n      <td>NaN</td>\n      <td>NaN</td>\n      <td>NaN</td>\n      <td>NaN</td>\n      <td>NaN</td>\n      <td>NaN</td>\n    </tr>\n    <tr>\n      <th>2</th>\n      <td>https://en.wikipedia.org/wiki/Air_America_(film)</td>\n      <td>1990.0</td>\n      <td>https://www.imdb.com/title/tt0099005/</td>\n      <td>Air America</td>\n      <td>Roger Spottiswoode</td>\n      <td>Daniel Melnick</td>\n      <td>[John Eskow, Richard Rush]</td>\n      <td>NaN</td>\n      <td>[Air America, by, Christopher Robbins]</td>\n      <td>[Mel Gibson, Robert Downey Jr., Nancy Travis, ...</td>\n      <td>NaN</td>\n      <td>Charles Gross</td>\n      <td>Roger Deakins</td>\n      <td>[John Bloom, Lois Freeman-Fox]</td>\n      <td>[Carolco Pictures, IndieProd Company]</td>\n      <td>TriStar Pictures</td>\n      <td>[August 10, 1990, (, 1990-08-10, )]</td>\n      <td>113 minutes</td>\n      <td>United States</td>\n      <td>[English, Lao]</td>\n      <td>$35 million</td>\n      <td>$57,718,089</td>\n      <td>NaN</td>\n      <td>NaN</td>\n      <td>NaN</td>\n      <td>NaN</td>\n      <td>NaN</td>\n      <td>NaN</td>\n      <td>NaN</td>\n      <td>NaN</td>\n      <td>NaN</td>\n      <td>NaN</td>\n      <td>NaN</td>\n      <td>NaN</td>\n      <td>NaN</td>\n      <td>NaN</td>\n      <td>NaN</td>\n      <td>NaN</td>\n      <td>NaN</td>\n      <td>NaN</td>\n      <td>...</td>\n      <td>NaN</td>\n      <td>NaN</td>\n      <td>NaN</td>\n      <td>NaN</td>\n      <td>NaN</td>\n      <td>NaN</td>\n      <td>NaN</td>\n      <td>NaN</td>\n      <td>NaN</td>\n      <td>NaN</td>\n      <td>NaN</td>\n      <td>NaN</td>\n      <td>NaN</td>\n      <td>NaN</td>\n      <td>NaN</td>\n      <td>NaN</td>\n      <td>NaN</td>\n      <td>NaN</td>\n      <td>NaN</td>\n      <td>NaN</td>\n      <td>NaN</td>\n      <td>NaN</td>\n      <td>NaN</td>\n      <td>NaN</td>\n      <td>NaN</td>\n      <td>NaN</td>\n      <td>NaN</td>\n      <td>NaN</td>\n      <td>NaN</td>\n      <td>NaN</td>\n      <td>NaN</td>\n      <td>NaN</td>\n      <td>NaN</td>\n      <td>NaN</td>\n      <td>NaN</td>\n      <td>NaN</td>\n      <td>NaN</td>\n      <td>NaN</td>\n      <td>NaN</td>\n      <td>NaN</td>\n    </tr>\n    <tr>\n      <th>3</th>\n      <td>https://en.wikipedia.org/wiki/Alice_(1990_film)</td>\n      <td>1990.0</td>\n      <td>https://www.imdb.com/title/tt0099012/</td>\n      <td>Alice</td>\n      <td>Woody Allen</td>\n      <td>Robert Greenhut</td>\n      <td>NaN</td>\n      <td>NaN</td>\n      <td>NaN</td>\n      <td>[Alec Baldwin, Blythe Danner, Judy Davis, Mia ...</td>\n      <td>NaN</td>\n      <td>NaN</td>\n      <td>Carlo Di Palma</td>\n      <td>Susan E. Morse</td>\n      <td>NaN</td>\n      <td>Orion Pictures</td>\n      <td>[December 25, 1990, (, 1990-12-25, )]</td>\n      <td>106 minutes</td>\n      <td>United States</td>\n      <td>English</td>\n      <td>$12 million</td>\n      <td>$7,331,647</td>\n      <td>Woody Allen</td>\n      <td>NaN</td>\n      <td>NaN</td>\n      <td>NaN</td>\n      <td>NaN</td>\n      <td>NaN</td>\n      <td>NaN</td>\n      <td>NaN</td>\n      <td>NaN</td>\n      <td>NaN</td>\n      <td>NaN</td>\n      <td>NaN</td>\n      <td>NaN</td>\n      <td>NaN</td>\n      <td>NaN</td>\n      <td>NaN</td>\n      <td>NaN</td>\n      <td>NaN</td>\n      <td>...</td>\n      <td>NaN</td>\n      <td>NaN</td>\n      <td>NaN</td>\n      <td>NaN</td>\n      <td>NaN</td>\n      <td>NaN</td>\n      <td>NaN</td>\n      <td>NaN</td>\n      <td>NaN</td>\n      <td>NaN</td>\n      <td>NaN</td>\n      <td>NaN</td>\n      <td>NaN</td>\n      <td>NaN</td>\n      <td>NaN</td>\n      <td>NaN</td>\n      <td>NaN</td>\n      <td>NaN</td>\n      <td>NaN</td>\n      <td>NaN</td>\n      <td>NaN</td>\n      <td>NaN</td>\n      <td>NaN</td>\n      <td>NaN</td>\n      <td>NaN</td>\n      <td>NaN</td>\n      <td>NaN</td>\n      <td>NaN</td>\n      <td>NaN</td>\n      <td>NaN</td>\n      <td>NaN</td>\n      <td>NaN</td>\n      <td>NaN</td>\n      <td>NaN</td>\n      <td>NaN</td>\n      <td>NaN</td>\n      <td>NaN</td>\n      <td>NaN</td>\n      <td>NaN</td>\n      <td>NaN</td>\n    </tr>\n    <tr>\n      <th>4</th>\n      <td>https://en.wikipedia.org/wiki/Almost_an_Angel</td>\n      <td>1990.0</td>\n      <td>https://www.imdb.com/title/tt0099018/</td>\n      <td>Almost an Angel</td>\n      <td>John Cornell</td>\n      <td>John Cornell</td>\n      <td>NaN</td>\n      <td>NaN</td>\n      <td>NaN</td>\n      <td>[Paul Hogan, Elias Koteas, Linda Kozlowski]</td>\n      <td>NaN</td>\n      <td>Maurice Jarre</td>\n      <td>Russell Boyd</td>\n      <td>David Stiven</td>\n      <td>NaN</td>\n      <td>Paramount Pictures</td>\n      <td>December 19, 1990</td>\n      <td>95 minutes</td>\n      <td>US</td>\n      <td>English</td>\n      <td>$25 million</td>\n      <td>$6,939,946 (USA)</td>\n      <td>Paul Hogan</td>\n      <td>NaN</td>\n      <td>NaN</td>\n      <td>NaN</td>\n      <td>NaN</td>\n      <td>NaN</td>\n      <td>NaN</td>\n      <td>NaN</td>\n      <td>NaN</td>\n      <td>NaN</td>\n      <td>NaN</td>\n      <td>NaN</td>\n      <td>NaN</td>\n      <td>NaN</td>\n      <td>NaN</td>\n      <td>NaN</td>\n      <td>NaN</td>\n      <td>NaN</td>\n      <td>...</td>\n      <td>NaN</td>\n      <td>NaN</td>\n      <td>NaN</td>\n      <td>NaN</td>\n      <td>NaN</td>\n      <td>NaN</td>\n      <td>NaN</td>\n      <td>NaN</td>\n      <td>NaN</td>\n      <td>NaN</td>\n      <td>NaN</td>\n      <td>NaN</td>\n      <td>NaN</td>\n      <td>NaN</td>\n      <td>NaN</td>\n      <td>NaN</td>\n      <td>NaN</td>\n      <td>NaN</td>\n      <td>NaN</td>\n      <td>NaN</td>\n      <td>NaN</td>\n      <td>NaN</td>\n      <td>NaN</td>\n      <td>NaN</td>\n      <td>NaN</td>\n      <td>NaN</td>\n      <td>NaN</td>\n      <td>NaN</td>\n      <td>NaN</td>\n      <td>NaN</td>\n      <td>NaN</td>\n      <td>NaN</td>\n      <td>NaN</td>\n      <td>NaN</td>\n      <td>NaN</td>\n      <td>NaN</td>\n      <td>NaN</td>\n      <td>NaN</td>\n      <td>NaN</td>\n      <td>NaN</td>\n    </tr>\n  </tbody>\n</table>\n<p>5 rows × 193 columns</p>\n</div>"
     },
     "metadata": {},
     "execution_count": 11
    }
   ],
   "source": [
    "# 9. Check the wiki_movies_df DataFrame.\n",
    "wiki_movies_df.head()"
   ]
  },
  {
   "cell_type": "code",
   "execution_count": 12,
   "metadata": {},
   "outputs": [
    {
     "output_type": "execute_result",
     "data": {
      "text/plain": [
       "   adult  ... vote_count\n",
       "0  False  ...     5415.0\n",
       "1  False  ...     2413.0\n",
       "2  False  ...       92.0\n",
       "3  False  ...       34.0\n",
       "4  False  ...      173.0\n",
       "\n",
       "[5 rows x 24 columns]"
      ],
      "text/html": "<div>\n<style scoped>\n    .dataframe tbody tr th:only-of-type {\n        vertical-align: middle;\n    }\n\n    .dataframe tbody tr th {\n        vertical-align: top;\n    }\n\n    .dataframe thead th {\n        text-align: right;\n    }\n</style>\n<table border=\"1\" class=\"dataframe\">\n  <thead>\n    <tr style=\"text-align: right;\">\n      <th></th>\n      <th>adult</th>\n      <th>belongs_to_collection</th>\n      <th>budget</th>\n      <th>genres</th>\n      <th>homepage</th>\n      <th>id</th>\n      <th>imdb_id</th>\n      <th>original_language</th>\n      <th>original_title</th>\n      <th>overview</th>\n      <th>popularity</th>\n      <th>poster_path</th>\n      <th>production_companies</th>\n      <th>production_countries</th>\n      <th>release_date</th>\n      <th>revenue</th>\n      <th>runtime</th>\n      <th>spoken_languages</th>\n      <th>status</th>\n      <th>tagline</th>\n      <th>title</th>\n      <th>video</th>\n      <th>vote_average</th>\n      <th>vote_count</th>\n    </tr>\n  </thead>\n  <tbody>\n    <tr>\n      <th>0</th>\n      <td>False</td>\n      <td>{'id': 10194, 'name': 'Toy Story Collection', ...</td>\n      <td>30000000</td>\n      <td>[{'id': 16, 'name': 'Animation'}, {'id': 35, '...</td>\n      <td>http://toystory.disney.com/toy-story</td>\n      <td>862</td>\n      <td>tt0114709</td>\n      <td>en</td>\n      <td>Toy Story</td>\n      <td>Led by Woody, Andy's toys live happily in his ...</td>\n      <td>21.9469</td>\n      <td>/rhIRbceoE9lR4veEXuwCC2wARtG.jpg</td>\n      <td>[{'name': 'Pixar Animation Studios', 'id': 3}]</td>\n      <td>[{'iso_3166_1': 'US', 'name': 'United States o...</td>\n      <td>1995-10-30</td>\n      <td>373554033.0</td>\n      <td>81.0</td>\n      <td>[{'iso_639_1': 'en', 'name': 'English'}]</td>\n      <td>Released</td>\n      <td>NaN</td>\n      <td>Toy Story</td>\n      <td>False</td>\n      <td>7.7</td>\n      <td>5415.0</td>\n    </tr>\n    <tr>\n      <th>1</th>\n      <td>False</td>\n      <td>NaN</td>\n      <td>65000000</td>\n      <td>[{'id': 12, 'name': 'Adventure'}, {'id': 14, '...</td>\n      <td>NaN</td>\n      <td>8844</td>\n      <td>tt0113497</td>\n      <td>en</td>\n      <td>Jumanji</td>\n      <td>When siblings Judy and Peter discover an encha...</td>\n      <td>17.0155</td>\n      <td>/vzmL6fP7aPKNKPRTFnZmiUfciyV.jpg</td>\n      <td>[{'name': 'TriStar Pictures', 'id': 559}, {'na...</td>\n      <td>[{'iso_3166_1': 'US', 'name': 'United States o...</td>\n      <td>1995-12-15</td>\n      <td>262797249.0</td>\n      <td>104.0</td>\n      <td>[{'iso_639_1': 'en', 'name': 'English'}, {'iso...</td>\n      <td>Released</td>\n      <td>Roll the dice and unleash the excitement!</td>\n      <td>Jumanji</td>\n      <td>False</td>\n      <td>6.9</td>\n      <td>2413.0</td>\n    </tr>\n    <tr>\n      <th>2</th>\n      <td>False</td>\n      <td>{'id': 119050, 'name': 'Grumpy Old Men Collect...</td>\n      <td>0</td>\n      <td>[{'id': 10749, 'name': 'Romance'}, {'id': 35, ...</td>\n      <td>NaN</td>\n      <td>15602</td>\n      <td>tt0113228</td>\n      <td>en</td>\n      <td>Grumpier Old Men</td>\n      <td>A family wedding reignites the ancient feud be...</td>\n      <td>11.7129</td>\n      <td>/6ksm1sjKMFLbO7UY2i6G1ju9SML.jpg</td>\n      <td>[{'name': 'Warner Bros.', 'id': 6194}, {'name'...</td>\n      <td>[{'iso_3166_1': 'US', 'name': 'United States o...</td>\n      <td>1995-12-22</td>\n      <td>0.0</td>\n      <td>101.0</td>\n      <td>[{'iso_639_1': 'en', 'name': 'English'}]</td>\n      <td>Released</td>\n      <td>Still Yelling. Still Fighting. Still Ready for...</td>\n      <td>Grumpier Old Men</td>\n      <td>False</td>\n      <td>6.5</td>\n      <td>92.0</td>\n    </tr>\n    <tr>\n      <th>3</th>\n      <td>False</td>\n      <td>NaN</td>\n      <td>16000000</td>\n      <td>[{'id': 35, 'name': 'Comedy'}, {'id': 18, 'nam...</td>\n      <td>NaN</td>\n      <td>31357</td>\n      <td>tt0114885</td>\n      <td>en</td>\n      <td>Waiting to Exhale</td>\n      <td>Cheated on, mistreated and stepped on, the wom...</td>\n      <td>3.85949</td>\n      <td>/16XOMpEaLWkrcPqSQqhTmeJuqQl.jpg</td>\n      <td>[{'name': 'Twentieth Century Fox Film Corporat...</td>\n      <td>[{'iso_3166_1': 'US', 'name': 'United States o...</td>\n      <td>1995-12-22</td>\n      <td>81452156.0</td>\n      <td>127.0</td>\n      <td>[{'iso_639_1': 'en', 'name': 'English'}]</td>\n      <td>Released</td>\n      <td>Friends are the people who let you be yourself...</td>\n      <td>Waiting to Exhale</td>\n      <td>False</td>\n      <td>6.1</td>\n      <td>34.0</td>\n    </tr>\n    <tr>\n      <th>4</th>\n      <td>False</td>\n      <td>{'id': 96871, 'name': 'Father of the Bride Col...</td>\n      <td>0</td>\n      <td>[{'id': 35, 'name': 'Comedy'}]</td>\n      <td>NaN</td>\n      <td>11862</td>\n      <td>tt0113041</td>\n      <td>en</td>\n      <td>Father of the Bride Part II</td>\n      <td>Just when George Banks has recovered from his ...</td>\n      <td>8.38752</td>\n      <td>/e64sOI48hQXyru7naBFyssKFxVd.jpg</td>\n      <td>[{'name': 'Sandollar Productions', 'id': 5842}...</td>\n      <td>[{'iso_3166_1': 'US', 'name': 'United States o...</td>\n      <td>1995-02-10</td>\n      <td>76578911.0</td>\n      <td>106.0</td>\n      <td>[{'iso_639_1': 'en', 'name': 'English'}]</td>\n      <td>Released</td>\n      <td>Just When His World Is Back To Normal... He's ...</td>\n      <td>Father of the Bride Part II</td>\n      <td>False</td>\n      <td>5.7</td>\n      <td>173.0</td>\n    </tr>\n  </tbody>\n</table>\n</div>"
     },
     "metadata": {},
     "execution_count": 12
    }
   ],
   "source": [
    "# 10. Check the kaggle_metadata DataFrame.\n",
    "kaggle_metadata.head()"
   ]
  },
  {
   "cell_type": "code",
   "execution_count": 15,
   "metadata": {},
   "outputs": [
    {
     "output_type": "execute_result",
     "data": {
      "text/plain": [
       "          userId  movieId  rating   timestamp\n",
       "26024284  270896    58559     5.0  1257031564\n",
       "26024285  270896    60069     5.0  1257032032\n",
       "26024286  270896    63082     4.5  1257031764\n",
       "26024287  270896    64957     4.5  1257033990\n",
       "26024288  270896    71878     2.0  1257031858"
      ],
      "text/html": "<div>\n<style scoped>\n    .dataframe tbody tr th:only-of-type {\n        vertical-align: middle;\n    }\n\n    .dataframe tbody tr th {\n        vertical-align: top;\n    }\n\n    .dataframe thead th {\n        text-align: right;\n    }\n</style>\n<table border=\"1\" class=\"dataframe\">\n  <thead>\n    <tr style=\"text-align: right;\">\n      <th></th>\n      <th>userId</th>\n      <th>movieId</th>\n      <th>rating</th>\n      <th>timestamp</th>\n    </tr>\n  </thead>\n  <tbody>\n    <tr>\n      <th>26024284</th>\n      <td>270896</td>\n      <td>58559</td>\n      <td>5.0</td>\n      <td>1257031564</td>\n    </tr>\n    <tr>\n      <th>26024285</th>\n      <td>270896</td>\n      <td>60069</td>\n      <td>5.0</td>\n      <td>1257032032</td>\n    </tr>\n    <tr>\n      <th>26024286</th>\n      <td>270896</td>\n      <td>63082</td>\n      <td>4.5</td>\n      <td>1257031764</td>\n    </tr>\n    <tr>\n      <th>26024287</th>\n      <td>270896</td>\n      <td>64957</td>\n      <td>4.5</td>\n      <td>1257033990</td>\n    </tr>\n    <tr>\n      <th>26024288</th>\n      <td>270896</td>\n      <td>71878</td>\n      <td>2.0</td>\n      <td>1257031858</td>\n    </tr>\n  </tbody>\n</table>\n</div>"
     },
     "metadata": {},
     "execution_count": 15
    }
   ],
   "source": [
    "# 11. Check the ratings DataFrame.\n",
    "ratings.tail()"
   ]
  },
  {
   "cell_type": "code",
   "execution_count": null,
   "metadata": {},
   "outputs": [],
   "source": []
  }
 ],
 "metadata": {
  "kernelspec": {
   "name": "pythondata",
   "display_name": "Python 3.8.5 64-bit ('base': conda)"
  },
  "language_info": {
   "codemirror_mode": {
    "name": "ipython",
    "version": 3
   },
   "file_extension": ".py",
   "mimetype": "text/x-python",
   "name": "python",
   "nbconvert_exporter": "python",
   "pygments_lexer": "ipython3",
   "version": "3.8.5"
  }
 },
 "nbformat": 4,
 "nbformat_minor": 2
}